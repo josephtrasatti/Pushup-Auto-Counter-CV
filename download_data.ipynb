{
 "cells": [
  {
   "cell_type": "code",
   "execution_count": 2,
   "metadata": {},
   "outputs": [],
   "source": [
    "import csv\n",
    "import subprocess"
   ]
  },
  {
   "cell_type": "markdown",
   "metadata": {},
   "source": [
    "Make folders to copy data into"
   ]
  },
  {
   "cell_type": "code",
   "execution_count": 10,
   "metadata": {},
   "outputs": [],
   "source": [
    "bashCommand = f'sudo mkdir ./train_files'\n",
    "process = subprocess.Popen(bashCommand.split(), stdout=subprocess.PIPE)\n",
    "output, error = process.communicate()\n",
    "\n",
    "bashCommand = f'sudo mkdir ./validation_files'\n",
    "process = subprocess.Popen(bashCommand.split(), stdout=subprocess.PIPE)\n",
    "output, error = process.communicate()"
   ]
  },
  {
   "cell_type": "markdown",
   "metadata": {},
   "source": [
    "Copy Training Image Files and CSV file from google bucket"
   ]
  },
  {
   "cell_type": "code",
   "execution_count": 11,
   "metadata": {},
   "outputs": [
    {
     "name": "stdout",
     "output_type": "stream",
     "text": [
      "Downloaded Excel File\n",
      "Copying Data... May take up to 5 minutes.\n",
      "Data Downloaded.\n"
     ]
    }
   ],
   "source": [
    "# Copy all images into a folder \n",
    "# If data downloads instantly, it may be becuase you must enter the password to run sudo. If this is the case,\n",
    "# Remove sudo from the start of each command\n",
    "bashCommand = f'sudo gsutil cp -r gs://pushup-bucket-central/export_data-Pushups-2020-12-17T03:41:53.095689Z ./train_files'\n",
    "print('Copying Data... May take up to 5 minutes.')\n",
    "process = subprocess.Popen(bashCommand.split(), stdout=subprocess.PIPE)\n",
    "output, error = process.communicate()\n",
    "print('Data Downloaded.')"
   ]
  },
  {
   "cell_type": "code",
   "execution_count": 12,
   "metadata": {},
   "outputs": [
    {
     "name": "stdout",
     "output_type": "stream",
     "text": [
      "Copying Data... May take up to 5 minutes.\n",
      "Data Downloaded.\n"
     ]
    }
   ],
   "source": [
    "# Copy all images into a folder VALIDATION\n",
    "# If data downloads instantly, it may be becuase you must enter the password to run sudo. If this is the case,\n",
    "# Remove sudo from the start of each command\n",
    "bashCommand = f'sudo gsutil cp -r gs://pushup-bucket-central/export_data-pushupValidation-2020-12-17T21:02:22.518387Z ./validation_files'\n",
    "print('Copying Data... May take up to 5 minutes.')\n",
    "process = subprocess.Popen(bashCommand.split(), stdout=subprocess.PIPE)\n",
    "output, error = process.communicate()\n",
    "print('Data Downloaded.')"
   ]
  },
  {
   "cell_type": "markdown",
   "metadata": {},
   "source": [
    "Create Directories for Data"
   ]
  },
  {
   "cell_type": "code",
   "execution_count": 13,
   "metadata": {},
   "outputs": [],
   "source": [
    "bashCommand = f'sudo mkdir ./data'\n",
    "process = subprocess.Popen(bashCommand.split(), stdout=subprocess.PIPE)\n",
    "output, error = process.communicate()\n",
    "\n",
    "bashCommand = f'sudo mkdir ./data/train'\n",
    "process = subprocess.Popen(bashCommand.split(), stdout=subprocess.PIPE)\n",
    "output, error = process.communicate()\n",
    "\n",
    "bashCommand = f'sudo mkdir ./data/validation'\n",
    "process = subprocess.Popen(bashCommand.split(), stdout=subprocess.PIPE)\n",
    "output, error = process.communicate()\n",
    "\n",
    "bashCommand = f'sudo mkdir ./data/train/up'\n",
    "process = subprocess.Popen(bashCommand.split(), stdout=subprocess.PIPE)\n",
    "output, error = process.communicate()\n",
    "\n",
    "bashCommand = f'sudo mkdir ./data/train/middle'\n",
    "process = subprocess.Popen(bashCommand.split(), stdout=subprocess.PIPE)\n",
    "output, error = process.communicate()\n",
    "\n",
    "bashCommand = f'sudo mkdir ./data/train/down'\n",
    "process = subprocess.Popen(bashCommand.split(), stdout=subprocess.PIPE)\n",
    "output, error = process.communicate()\n",
    "\n",
    "bashCommand = f'sudo mkdir ./data/validation/up'\n",
    "process = subprocess.Popen(bashCommand.split(), stdout=subprocess.PIPE)\n",
    "output, error = process.communicate()\n",
    "\n",
    "bashCommand = f'sudo mkdir ./data/validation/middle'\n",
    "process = subprocess.Popen(bashCommand.split(), stdout=subprocess.PIPE)\n",
    "output, error = process.communicate()\n",
    "\n",
    "bashCommand = f'sudo mkdir ./data/validation/down'\n",
    "process = subprocess.Popen(bashCommand.split(), stdout=subprocess.PIPE)\n",
    "output, error = process.communicate()"
   ]
  },
  {
   "cell_type": "markdown",
   "metadata": {},
   "source": [
    "Organize data into folders. Because we are using videos as our test data, we will combine validation and test. "
   ]
  },
  {
   "cell_type": "code",
   "execution_count": 14,
   "metadata": {},
   "outputs": [
    {
     "name": "stdout",
     "output_type": "stream",
     "text": [
      "Data Moved into Folders\n"
     ]
    }
   ],
   "source": [
    "train_path = './train_files/export_data-Pushups-2020-12-17T03:41:53.095689Z'\n",
    "\n",
    "with open(train_path + '/image_classification_1.csv', newline='') as pushup_data:\n",
    "    reader = csv.reader(pushup_data, delimiter=' ', quotechar='|')\n",
    "    for row in reader:\n",
    "        row = row[0].split(',')\n",
    "        \n",
    "        image_path = row[1]\n",
    "        # Get name of file, not including bucket path\n",
    "        image_path = image_path[(image_path.find('files/')+6):]\n",
    "\n",
    "        folder = 'train'\n",
    "        label = row[2]\n",
    "\n",
    "        bashCommand = f'sudo mv {train_path}/files/{image_path} ./data/{folder}/{label}'\n",
    "        \n",
    "        process = subprocess.Popen(bashCommand.split(), stdout=subprocess.PIPE)\n",
    "        output, error = process.communicate()\n",
    "        \n",
    "val_path = './validation_files/export_data-pushupValidation-2020-12-17T21:02:22.518387Z'\n",
    "        \n",
    "with open(val_path + '/image_classification_1.csv', newline='') as pushup_data:\n",
    "    reader = csv.reader(pushup_data, delimiter=' ', quotechar='|')\n",
    "    for row in reader:\n",
    "        row = row[0].split(',')\n",
    "        \n",
    "        image_path = row[1]\n",
    "        # Get name of file, not including bucket path\n",
    "        image_path = image_path[(image_path.find('files/')+6):]\n",
    "\n",
    "        folder = 'validation'\n",
    "        label = row[2]\n",
    "\n",
    "        bashCommand = f'sudo mv {val_path}/files/{image_path} ./data/{folder}/{label}'\n",
    "        \n",
    "        process = subprocess.Popen(bashCommand.split(), stdout=subprocess.PIPE)\n",
    "        output, error = process.communicate()\n",
    "\n",
    "print('Data Moved into Folders')"
   ]
  },
  {
   "cell_type": "code",
   "execution_count": null,
   "metadata": {},
   "outputs": [],
   "source": []
  }
 ],
 "metadata": {
  "environment": {
   "name": "pytorch-gpu.1-6.m59",
   "type": "gcloud",
   "uri": "gcr.io/deeplearning-platform-release/pytorch-gpu.1-6:m59"
  },
  "kernelspec": {
   "display_name": "Python 3",
   "language": "python",
   "name": "python3"
  },
  "language_info": {
   "codemirror_mode": {
    "name": "ipython",
    "version": 3
   },
   "file_extension": ".py",
   "mimetype": "text/x-python",
   "name": "python",
   "nbconvert_exporter": "python",
   "pygments_lexer": "ipython3",
   "version": "3.7.8"
  }
 },
 "nbformat": 4,
 "nbformat_minor": 4
}
